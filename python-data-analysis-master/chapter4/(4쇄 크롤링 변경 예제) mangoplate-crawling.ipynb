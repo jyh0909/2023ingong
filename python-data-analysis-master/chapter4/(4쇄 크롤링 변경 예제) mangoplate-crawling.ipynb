{
 "cells": [
  {
   "cell_type": "markdown",
   "metadata": {},
   "source": [
    "Copyright (c) 2023 [윤기태]\n",
    "\n",
    "https://github.com/yoonkt200/python-data-analysis\n",
    "\n",
    "[MIT License](https://github.com/yoonkt200/python-data-analysis/blob/master/LICENSE.txt)"
   ]
  },
  {
   "cell_type": "markdown",
   "metadata": {},
   "source": [
    "# (가제) 파이썬 데이터 분석"
   ]
  },
  {
   "cell_type": "markdown",
   "metadata": {},
   "source": [
    "-----"
   ]
  },
  {
   "cell_type": "markdown",
   "metadata": {},
   "source": [
    "# <이것이 데이터 분석이다 with 파이썬> 4쇄 이후 변경된 크롤링 파트\n",
    "- 망고플레이트 웹페이지 리뷰 데이터 크롤링"
   ]
  },
  {
   "cell_type": "markdown",
   "metadata": {},
   "source": [
    "### 바로가기"
   ]
  },
  {
   "cell_type": "markdown",
   "metadata": {},
   "source": [
    "- [<Step1. 크롤링> : 크롤링으로 웹 데이터 가져오기](#<Step1.-크롤링>-:-크롤링으로-웹-데이터-가져오기)\n",
    "    - [망고플레이트 웹페이지]\n",
    "    - [리뷰 정보 크롤링]"
   ]
  },
  {
   "cell_type": "markdown",
   "metadata": {},
   "source": [
    "-----"
   ]
  },
  {
   "cell_type": "code",
   "execution_count": 1,
   "metadata": {
    "code_folding": [],
    "tags": []
   },
   "outputs": [],
   "source": [
    "# -*- coding: utf-8 -*-\n",
    "\n",
    "%matplotlib inline\n",
    "\n",
    "import pandas as pd\n",
    "import numpy as np\n",
    "import matplotlib.pyplot as plt\n",
    "import seaborn as sns\n",
    "\n",
    "import warnings\n",
    "warnings.filterwarnings(\"ignore\")"
   ]
  },
  {
   "cell_type": "markdown",
   "metadata": {},
   "source": [
    "# <Step1. 크롤링> : 크롤링으로 웹 데이터 가져오기"
   ]
  },
  {
   "cell_type": "markdown",
   "metadata": {},
   "source": [
    "### [망고플레이트 웹페이지]\n",
    "- https://www.mangoplate.com/\n",
    "- 맛집 관련 리뷰를 볼 수 있는 웹페이지\n",
    "- 본 예제에서는 웹 페이지에서 \"강남역\" 이라는 검색어로 검색한 결과를 크롤링 합니다."
   ]
  },
  {
   "cell_type": "markdown",
   "metadata": {},
   "source": [
    "![앱 생성 페이지](img/3.png)"
   ]
  },
  {
   "cell_type": "markdown",
   "metadata": {},
   "source": [
    "-----"
   ]
  },
  {
   "cell_type": "markdown",
   "metadata": {},
   "source": [
    "- 검색 결과로 나오는 페이지들의 리스트를 크롤링합니다."
   ]
  },
  {
   "cell_type": "code",
   "execution_count": 57,
   "metadata": {
    "code_folding": [],
    "scrolled": true,
    "tags": []
   },
   "outputs": [],
   "source": [
    "from selenium import webdriver\n",
    "from bs4 import BeautifulSoup\n",
    "import re\n",
    "import time\n",
    "\n",
    "# brew 로 설치된 chromedriver의 path (Mac)\n",
    "# mac_path = \"/usr/local/bin/chromedriver\"  # m1 이전 맥 OS\n",
    "mac_path = \"/opt/homebrew/bin/chromedriver\"  # m1 이후 맥 OS\n",
    "\n",
    "# 윈도우용 크롬 웹드라이버 실행 경로 (Windows)\n",
    "window_path = \"chromedriver.exe\"\n",
    "\n",
    "# 크롤링할 사이트 주소를 정의합니다. (사이트 검색창에 \"강남역\"을 입력한 url)\n",
    "source_url = \"https://www.mangoplate.com/search/%EA%B0%95%EB%82%A8%EC%97%AD\"\n",
    "\n",
    "# 사이트의 html 구조에 기반하여 크롤링을 수행합니다.\n",
    "driver = webdriver.Chrome(mac_path)  # for Mac\n",
    "# driver = webdriver.Chrome(window_path)  # for Windows\n",
    "driver.get(source_url)\n",
    "req = driver.page_source\n",
    "soup = BeautifulSoup(req, \"html.parser\")\n",
    "info_list = soup.find_all(name=\"div\", attrs={\"class\":\"info\"})"
   ]
  },
  {
   "cell_type": "code",
   "execution_count": 58,
   "metadata": {
    "tags": []
   },
   "outputs": [
    {
     "name": "stdout",
     "output_type": "stream",
     "text": [
      "https://www.mangoplate.com/restaurants/kZUywyY8DPyx\n",
      "https://www.mangoplate.com/restaurants/udMS7prvVnNn\n",
      "https://www.mangoplate.com/restaurants/0Ftpl9Mr_Isl\n",
      "https://www.mangoplate.com/restaurants/0Vq0bf1rZJLZ\n",
      "https://www.mangoplate.com/restaurants/9fX9iZIgEG7H\n"
     ]
    }
   ],
   "source": [
    "# a태그의 href 속성을 리스트로 추출하여, 크롤링 할 페이지 리스트를 생성합니다.\n",
    "page_urls = []\n",
    "page_url_base = \"https://www.mangoplate.com\"\n",
    "for index in range(0, len(info_list)):\n",
    "    info = info_list[index]\n",
    "    review_url = info.find(name=\"a\")\n",
    "    if review_url is not None:\n",
    "        page_urls.append(page_url_base + review_url.get(\"href\"))\n",
    "\n",
    "# 중복 url을 제거합니다.\n",
    "page_urls = list(set(page_urls))\n",
    "\n",
    "# 다섯 개의 페이지를 출력합니다.\n",
    "for page in page_urls[:5]:\n",
    "    print(page)\n",
    "\n",
    "# 크롤링에 사용한 브라우저를 종료합니다.\n",
    "driver.close()"
   ]
  },
  {
   "cell_type": "markdown",
   "metadata": {},
   "source": [
    "-----"
   ]
  },
  {
   "cell_type": "markdown",
   "metadata": {},
   "source": [
    "### [리뷰 정보 크롤링]"
   ]
  },
  {
   "cell_type": "markdown",
   "metadata": {},
   "source": [
    "![앱 생성 페이지](img/4.png)"
   ]
  },
  {
   "cell_type": "markdown",
   "metadata": {},
   "source": [
    "-----"
   ]
  },
  {
   "cell_type": "code",
   "execution_count": 59,
   "metadata": {
    "scrolled": true,
    "tags": []
   },
   "outputs": [],
   "source": [
    "columns = ['score', 'review']\n",
    "df = pd.DataFrame(columns=columns)\n",
    "\n",
    "driver = webdriver.Chrome(mac_path)  # for Mac\n",
    "# driver = webdriver.Chrome(window_path)  # for Windows\n",
    "for page_url in page_urls:\n",
    "    \n",
    "    # 상세보기 페이지에 접속합니다\n",
    "    driver.get(page_url)\n",
    "    \n",
    "    # 리뷰를 크롤링합니다\n",
    "    html = driver.page_source\n",
    "    soup = BeautifulSoup(html, 'html.parser')\n",
    "    review_list = soup.find(name=\"section\", attrs={\"class\":\"RestaurantReviewList\"})\n",
    "    \n",
    "    # 평가 정보('맛있다' 마크)를 가져옵니다.\n",
    "    review_recommend_list = review_list.find_all(name=\"div\", attrs={\"class\":\"RestaurantReviewItem__Rating RestaurantReviewItem__Rating--Recommend\"})\n",
    "    \n",
    "    # 리뷰를 가져옵니다.\n",
    "    review_text_list = review_list.find_all(name=\"div\", attrs={\"class\":\"RestaurantReviewItem__ReviewContent\"})\n",
    "    \n",
    "    for review_recommend, review_text in zip(review_recommend_list, review_text_list):\n",
    "        row = [review_recommend.find(name=\"span\").text, review_text.find(name=\"p\").text]\n",
    "        series = pd.Series(row, index=df.columns)\n",
    "        df = df.append(series, ignore_index=True)\n",
    "        \n",
    "driver.close()"
   ]
  },
  {
   "cell_type": "code",
   "execution_count": 60,
   "metadata": {
    "tags": []
   },
   "outputs": [
    {
     "data": {
      "text/html": [
       "<div>\n",
       "<style scoped>\n",
       "    .dataframe tbody tr th:only-of-type {\n",
       "        vertical-align: middle;\n",
       "    }\n",
       "\n",
       "    .dataframe tbody tr th {\n",
       "        vertical-align: top;\n",
       "    }\n",
       "\n",
       "    .dataframe thead th {\n",
       "        text-align: right;\n",
       "    }\n",
       "</style>\n",
       "<table border=\"1\" class=\"dataframe\">\n",
       "  <thead>\n",
       "    <tr style=\"text-align: right;\">\n",
       "      <th></th>\n",
       "      <th>score</th>\n",
       "      <th>review</th>\n",
       "    </tr>\n",
       "  </thead>\n",
       "  <tbody>\n",
       "    <tr>\n",
       "      <th>0</th>\n",
       "      <td>맛있다</td>\n",
       "      <td>\\n맛있게 먹었어요 !!그런데 신메뉴였던 버섯이랑 계란 들어간 샌드위치는들고먹어도 ...</td>\n",
       "    </tr>\n",
       "    <tr>\n",
       "      <th>1</th>\n",
       "      <td>맛있다</td>\n",
       "      <td>\\n          한줄평: 정통 아메리칸 델리카트슨 다이너. 예랑Pick은 '파...</td>\n",
       "    </tr>\n",
       "    <tr>\n",
       "      <th>2</th>\n",
       "      <td>맛있다</td>\n",
       "      <td>\\n           늘 웨이팅이 있어 궁금했던 카츠8 - 돈카츠가 주된 메뉴지만...</td>\n",
       "    </tr>\n",
       "    <tr>\n",
       "      <th>3</th>\n",
       "      <td>맛있다</td>\n",
       "      <td>\\n          .\\n</td>\n",
       "    </tr>\n",
       "    <tr>\n",
       "      <th>4</th>\n",
       "      <td>맛있다</td>\n",
       "      <td>\\n          카츠반상 22000원치즈돈까스와 우동, 후토마끼가 같이 나와요...</td>\n",
       "    </tr>\n",
       "  </tbody>\n",
       "</table>\n",
       "</div>"
      ],
      "text/plain": [
       "  score                                             review\n",
       "0   맛있다  \\n맛있게 먹었어요 !!그런데 신메뉴였던 버섯이랑 계란 들어간 샌드위치는들고먹어도 ...\n",
       "1   맛있다  \\n          한줄평: 정통 아메리칸 델리카트슨 다이너. 예랑Pick은 '파...\n",
       "2   맛있다  \\n           늘 웨이팅이 있어 궁금했던 카츠8 - 돈카츠가 주된 메뉴지만...\n",
       "3   맛있다                            \\n          .\\n        \n",
       "4   맛있다  \\n          카츠반상 22000원치즈돈까스와 우동, 후토마끼가 같이 나와요..."
      ]
     },
     "execution_count": 60,
     "metadata": {},
     "output_type": "execute_result"
    }
   ],
   "source": [
    "df.head()"
   ]
  },
  {
   "cell_type": "code",
   "execution_count": 61,
   "metadata": {
    "tags": []
   },
   "outputs": [
    {
     "name": "stdout",
     "output_type": "stream",
     "text": [
      "(5, 3)\n"
     ]
    },
    {
     "data": {
      "text/html": [
       "<div>\n",
       "<style scoped>\n",
       "    .dataframe tbody tr th:only-of-type {\n",
       "        vertical-align: middle;\n",
       "    }\n",
       "\n",
       "    .dataframe tbody tr th {\n",
       "        vertical-align: top;\n",
       "    }\n",
       "\n",
       "    .dataframe thead th {\n",
       "        text-align: right;\n",
       "    }\n",
       "</style>\n",
       "<table border=\"1\" class=\"dataframe\">\n",
       "  <thead>\n",
       "    <tr style=\"text-align: right;\">\n",
       "      <th></th>\n",
       "      <th>score</th>\n",
       "      <th>review</th>\n",
       "      <th>y</th>\n",
       "    </tr>\n",
       "  </thead>\n",
       "  <tbody>\n",
       "    <tr>\n",
       "      <th>0</th>\n",
       "      <td>맛있다</td>\n",
       "      <td>\\n맛있게 먹었어요 !!그런데 신메뉴였던 버섯이랑 계란 들어간 샌드위치는들고먹어도 ...</td>\n",
       "      <td>1</td>\n",
       "    </tr>\n",
       "    <tr>\n",
       "      <th>1</th>\n",
       "      <td>맛있다</td>\n",
       "      <td>\\n          한줄평: 정통 아메리칸 델리카트슨 다이너. 예랑Pick은 '파...</td>\n",
       "      <td>1</td>\n",
       "    </tr>\n",
       "    <tr>\n",
       "      <th>2</th>\n",
       "      <td>맛있다</td>\n",
       "      <td>\\n           늘 웨이팅이 있어 궁금했던 카츠8 - 돈카츠가 주된 메뉴지만...</td>\n",
       "      <td>1</td>\n",
       "    </tr>\n",
       "    <tr>\n",
       "      <th>3</th>\n",
       "      <td>맛있다</td>\n",
       "      <td>\\n          .\\n</td>\n",
       "      <td>1</td>\n",
       "    </tr>\n",
       "    <tr>\n",
       "      <th>4</th>\n",
       "      <td>맛있다</td>\n",
       "      <td>\\n          카츠반상 22000원치즈돈까스와 우동, 후토마끼가 같이 나와요...</td>\n",
       "      <td>1</td>\n",
       "    </tr>\n",
       "  </tbody>\n",
       "</table>\n",
       "</div>"
      ],
      "text/plain": [
       "  score                                             review  y\n",
       "0   맛있다  \\n맛있게 먹었어요 !!그런데 신메뉴였던 버섯이랑 계란 들어간 샌드위치는들고먹어도 ...  1\n",
       "1   맛있다  \\n          한줄평: 정통 아메리칸 델리카트슨 다이너. 예랑Pick은 '파...  1\n",
       "2   맛있다  \\n           늘 웨이팅이 있어 궁금했던 카츠8 - 돈카츠가 주된 메뉴지만...  1\n",
       "3   맛있다                            \\n          .\\n          1\n",
       "4   맛있다  \\n          카츠반상 22000원치즈돈까스와 우동, 후토마끼가 같이 나와요...  1"
      ]
     },
     "execution_count": 61,
     "metadata": {},
     "output_type": "execute_result"
    }
   ],
   "source": [
    "# '맛있다' 라는 마크가 달린 리뷰는 긍정 리뷰, 그 외는 부정 리뷰로 평가합니다.\n",
    "df['y'] = df['score'].apply(lambda x: 1 if x == '맛있다' else 0)\n",
    "print(df.shape)\n",
    "df.head()"
   ]
  },
  {
   "cell_type": "markdown",
   "metadata": {},
   "source": [
    "-----"
   ]
  },
  {
   "cell_type": "markdown",
   "metadata": {},
   "source": [
    "## 크롤링 이후의 분석 내용은 책에 기재되어 있는 내용인 `02-restaurant-sentiment-analysis.ipynb` 파일과 동일합니다."
   ]
  }
 ],
 "metadata": {
  "kernelspec": {
   "display_name": "Python 3 (ipykernel)",
   "language": "python",
   "name": "python3"
  },
  "language_info": {
   "codemirror_mode": {
    "name": "ipython",
    "version": 3
   },
   "file_extension": ".py",
   "mimetype": "text/x-python",
   "name": "python",
   "nbconvert_exporter": "python",
   "pygments_lexer": "ipython3",
   "version": "3.9.16"
  },
  "toc": {
   "base_numbering": 1,
   "nav_menu": {},
   "number_sections": true,
   "sideBar": true,
   "skip_h1_title": false,
   "title_cell": "Table of Contents",
   "title_sidebar": "Contents",
   "toc_cell": false,
   "toc_position": {
    "height": "calc(100% - 180px)",
    "left": "10px",
    "top": "150px",
    "width": "368px"
   },
   "toc_section_display": true,
   "toc_window_display": true
  }
 },
 "nbformat": 4,
 "nbformat_minor": 4
}
